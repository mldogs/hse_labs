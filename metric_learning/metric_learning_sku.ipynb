{
 "cells": [
  {
   "cell_type": "code",
   "execution_count": 1,
   "id": "5715079b",
   "metadata": {},
   "outputs": [],
   "source": [
    "import matplotlib.pyplot as plt\n",
    "import numpy as np\n",
    "import pandas as pd\n",
    "import pickle\n",
    "import torch\n",
    "\n",
    "from sentence_transformers import InputExample, SentenceTransformer, losses\n",
    "from sentence_transformers.datasets import NoDuplicatesDataLoader\n",
    "from sklearn.metrics.pairwise import cosine_similarity"
   ]
  },
  {
   "cell_type": "code",
   "execution_count": 2,
   "id": "0163b878",
   "metadata": {},
   "outputs": [
    {
     "data": {
      "text/plain": [
       "True"
      ]
     },
     "execution_count": 2,
     "metadata": {},
     "output_type": "execute_result"
    }
   ],
   "source": [
    "# доступность гпу\n",
    "torch.cuda.is_available()"
   ]
  },
  {
   "cell_type": "code",
   "execution_count": 3,
   "id": "1a1b8329",
   "metadata": {},
   "outputs": [],
   "source": [
    "# Загружаем данные\n",
    "df_train = pd.read_excel('./data/aug_train.xlsx')\n",
    "df_test =  pd.read_excel('./data/test_data.xlsx')"
   ]
  },
  {
   "cell_type": "code",
   "execution_count": 4,
   "id": "4a4bbd33",
   "metadata": {},
   "outputs": [
    {
     "data": {
      "text/html": [
       "<div>\n",
       "<style scoped>\n",
       "    .dataframe tbody tr th:only-of-type {\n",
       "        vertical-align: middle;\n",
       "    }\n",
       "\n",
       "    .dataframe tbody tr th {\n",
       "        vertical-align: top;\n",
       "    }\n",
       "\n",
       "    .dataframe thead th {\n",
       "        text-align: right;\n",
       "    }\n",
       "</style>\n",
       "<table border=\"1\" class=\"dataframe\">\n",
       "  <thead>\n",
       "    <tr style=\"text-align: right;\">\n",
       "      <th></th>\n",
       "      <th>ITEM_NAME_x</th>\n",
       "      <th>ITEM_NAME_y</th>\n",
       "    </tr>\n",
       "  </thead>\n",
       "  <tbody>\n",
       "    <tr>\n",
       "      <th>0</th>\n",
       "      <td>2х40 рубеж бр 12 бокс резервного электропитания</td>\n",
       "      <td>бокс резервного электропитания бр12 автоматики...</td>\n",
       "    </tr>\n",
       "    <tr>\n",
       "      <th>1</th>\n",
       "      <td>плита гипсовая пазогребневая влагостойкая пуст...</td>\n",
       "      <td>гипсовая влагостойкая пустотелая пгп плита плг...</td>\n",
       "    </tr>\n",
       "    <tr>\n",
       "      <th>2</th>\n",
       "      <td>трубы вгп оц. 20х2,8мм</td>\n",
       "      <td>сталь труба 20х2,8мм вгп оцинкованная гост 326...</td>\n",
       "    </tr>\n",
       "    <tr>\n",
       "      <th>3</th>\n",
       "      <td>труба гост вгп 80х4 оцинк 3262</td>\n",
       "      <td>труба стальная оцинкованная водогазопроводная ...</td>\n",
       "    </tr>\n",
       "    <tr>\n",
       "      <th>4</th>\n",
       "      <td>радиатор prado c1a88ic 21x500x600</td>\n",
       "      <td>радиатор панельный pkadu classic 21х500х600</td>\n",
       "    </tr>\n",
       "  </tbody>\n",
       "</table>\n",
       "</div>"
      ],
      "text/plain": [
       "                                         ITEM_NAME_x  \\\n",
       "0    2х40 рубеж бр 12 бокс резервного электропитания   \n",
       "1  плита гипсовая пазогребневая влагостойкая пуст...   \n",
       "2                             трубы вгп оц. 20х2,8мм   \n",
       "3                     труба гост вгп 80х4 оцинк 3262   \n",
       "4                  радиатор prado c1a88ic 21x500x600   \n",
       "\n",
       "                                         ITEM_NAME_y  \n",
       "0  бокс резервного электропитания бр12 автоматики...  \n",
       "1  гипсовая влагостойкая пустотелая пгп плита плг...  \n",
       "2  сталь труба 20х2,8мм вгп оцинкованная гост 326...  \n",
       "3  труба стальная оцинкованная водогазопроводная ...  \n",
       "4        радиатор панельный pkadu classic 21х500х600  "
      ]
     },
     "execution_count": 4,
     "metadata": {},
     "output_type": "execute_result"
    }
   ],
   "source": [
    "df_train.head()"
   ]
  },
  {
   "cell_type": "code",
   "execution_count": 5,
   "id": "9e390da7",
   "metadata": {},
   "outputs": [
    {
     "data": {
      "text/html": [
       "<div>\n",
       "<style scoped>\n",
       "    .dataframe tbody tr th:only-of-type {\n",
       "        vertical-align: middle;\n",
       "    }\n",
       "\n",
       "    .dataframe tbody tr th {\n",
       "        vertical-align: top;\n",
       "    }\n",
       "\n",
       "    .dataframe thead th {\n",
       "        text-align: right;\n",
       "    }\n",
       "</style>\n",
       "<table border=\"1\" class=\"dataframe\">\n",
       "  <thead>\n",
       "    <tr style=\"text-align: right;\">\n",
       "      <th></th>\n",
       "      <th>ITEM_NAME_x</th>\n",
       "      <th>ITEM_NAME_y</th>\n",
       "    </tr>\n",
       "  </thead>\n",
       "  <tbody>\n",
       "    <tr>\n",
       "      <th>0</th>\n",
       "      <td>старатели private label шпатлёвка гипсовая фин...</td>\n",
       "      <td>шпатлевка финишная гипсовая private label стар...</td>\n",
       "    </tr>\n",
       "    <tr>\n",
       "      <th>1</th>\n",
       "      <td>бетонная смесь бст в25 п4 f200w8 — |</td>\n",
       "      <td>бетон в25 гравий с пмд п2-п4 f200 w8 гост 2519...</td>\n",
       "    </tr>\n",
       "    <tr>\n",
       "      <th>2</th>\n",
       "      <td>лист стальной с ромбическим и чечевичным рифле...</td>\n",
       "      <td>лист стальной с ромбическим и чечевичным рифле...</td>\n",
       "    </tr>\n",
       "    <tr>\n",
       "      <th>3</th>\n",
       "      <td>пазогребневая плита волма влагостойкая 667x500...</td>\n",
       "      <td>плита гипсовая влагостойкая пустотелая пгп 667...</td>\n",
       "    </tr>\n",
       "    <tr>\n",
       "      <th>4</th>\n",
       "      <td>плита паг 14</td>\n",
       "      <td>плита дорожная паг-14</td>\n",
       "    </tr>\n",
       "  </tbody>\n",
       "</table>\n",
       "</div>"
      ],
      "text/plain": [
       "                                         ITEM_NAME_x  \\\n",
       "0  старатели private label шпатлёвка гипсовая фин...   \n",
       "1               бетонная смесь бст в25 п4 f200w8 — |   \n",
       "2  лист стальной с ромбическим и чечевичным рифле...   \n",
       "3  пазогребневая плита волма влагостойкая 667x500...   \n",
       "4                                       плита паг 14   \n",
       "\n",
       "                                         ITEM_NAME_y  \n",
       "0  шпатлевка финишная гипсовая private label стар...  \n",
       "1  бетон в25 гравий с пмд п2-п4 f200 w8 гост 2519...  \n",
       "2  лист стальной с ромбическим и чечевичным рифле...  \n",
       "3  плита гипсовая влагостойкая пустотелая пгп 667...  \n",
       "4                              плита дорожная паг-14  "
      ]
     },
     "execution_count": 5,
     "metadata": {},
     "output_type": "execute_result"
    }
   ],
   "source": [
    "df_test.head()"
   ]
  },
  {
   "cell_type": "code",
   "execution_count": 6,
   "id": "6eb0ff49",
   "metadata": {},
   "outputs": [
    {
     "name": "stdout",
     "output_type": "stream",
     "text": [
      "Размер трейн выборки: (8082, 2)\n",
      "Размер тест выборки: (666, 2)\n"
     ]
    }
   ],
   "source": [
    "print(f'Размер трейн выборки: {df_train.shape}\\nРазмер тест выборки: {df_test.shape}')"
   ]
  },
  {
   "cell_type": "code",
   "execution_count": 7,
   "id": "fd1a3644",
   "metadata": {},
   "outputs": [],
   "source": [
    "# Функция для создания датасета\n",
    "def get_dataset(df):\n",
    "    examples = []\n",
    "    for _, row in df.iterrows():\n",
    "        examples.append(InputExample(texts=[row['ITEM_NAME_x'], row['ITEM_NAME_y']]))\n",
    "    return examples"
   ]
  },
  {
   "cell_type": "code",
   "execution_count": 8,
   "id": "ccfb922e",
   "metadata": {},
   "outputs": [],
   "source": [
    "# Создаем даталоудер\n",
    "train_examples = get_dataset(df_train)\n",
    "train_dataloader = NoDuplicatesDataLoader(train_examples, batch_size=16)"
   ]
  },
  {
   "cell_type": "code",
   "execution_count": 13,
   "id": "9137af2d",
   "metadata": {},
   "outputs": [],
   "source": [
    "def evaluator(df, model, top_k=[1, 3, 5]):\n",
    "    # Энкодим вопросы и ответы\n",
    "    vectors_x = model.encode(df['ITEM_NAME_x'].values, batch_size=32)\n",
    "    vectors_y = model.encode(df['ITEM_NAME_y'].values, batch_size=32)\n",
    "\n",
    "    # Вычисляем косинусное сходство между каждым вопросом и каждым ответом\n",
    "    cosine_scores = cosine_similarity(vectors_x, vectors_y)\n",
    "\n",
    "    correct_counts = dict.fromkeys(top_k, 0)\n",
    "    \n",
    "    model_answers = []\n",
    "\n",
    "    for i in range(len(cosine_scores)):\n",
    "        top_indices = cosine_scores[i].argsort()[-max(top_k):][::-1]\n",
    "        top_answers = df.ITEM_NAME_y.iloc[top_indices].values.tolist()\n",
    "        model_answers.append(top_answers)\n",
    "        for k in top_k:\n",
    "            if i in top_indices[:k]:\n",
    "                correct_counts[k] += 1\n",
    "        \n",
    "        evaluation_score = {f\"Top-{k} Accuracy\": count / len(cosine_scores) for k, count in correct_counts.items()}\n",
    "        \n",
    "    print(evaluation_score)\n",
    "        \n",
    "    df['model_answers'] = model_answers\n",
    "\n",
    "    return df, evaluation_score"
   ]
  },
  {
   "cell_type": "code",
   "execution_count": 17,
   "id": "21929435",
   "metadata": {},
   "outputs": [],
   "source": [
    "class MultipleNegativesRankingLossWithAvg(losses.MultipleNegativesRankingLoss):\n",
    "    def __init__(self, *args, **kwargs):\n",
    "        super().__init__(*args, **kwargs)\n",
    "        self.total_loss = 0\n",
    "        self.steps = 0\n",
    "\n",
    "    def forward(self, sentence_features, labels):\n",
    "        loss = super().forward(sentence_features, labels)\n",
    "        self.total_loss += loss.item()\n",
    "        self.steps += 1\n",
    "        return loss\n",
    "\n",
    "    def get_avg_loss(self):\n",
    "        return self.total_loss / self.steps if self.steps > 0 else 0"
   ]
  },
  {
   "cell_type": "code",
   "execution_count": 14,
   "id": "c31aa1d7",
   "metadata": {},
   "outputs": [
    {
     "name": "stdout",
     "output_type": "stream",
     "text": [
      "{'Top-1 Accuracy': 0.3003003003003003, 'Top-3 Accuracy': 0.4894894894894895, 'Top-5 Accuracy': 0.5945945945945946}\n"
     ]
    }
   ],
   "source": [
    "# baseline\n",
    "model = SentenceTransformer('paraphrase-multilingual-mpnet-base-v2', device='cuda:2')\n",
    "df_valid_processed, evaluation_score = evaluator(df_test, model)"
   ]
  },
  {
   "cell_type": "code",
   "execution_count": 11,
   "id": "2bc91b6c",
   "metadata": {},
   "outputs": [
    {
     "data": {
      "text/html": [
       "<div>\n",
       "<style scoped>\n",
       "    .dataframe tbody tr th:only-of-type {\n",
       "        vertical-align: middle;\n",
       "    }\n",
       "\n",
       "    .dataframe tbody tr th {\n",
       "        vertical-align: top;\n",
       "    }\n",
       "\n",
       "    .dataframe thead th {\n",
       "        text-align: right;\n",
       "    }\n",
       "</style>\n",
       "<table border=\"1\" class=\"dataframe\">\n",
       "  <thead>\n",
       "    <tr style=\"text-align: right;\">\n",
       "      <th></th>\n",
       "      <th>ITEM_NAME_x</th>\n",
       "      <th>ITEM_NAME_y</th>\n",
       "      <th>model_answers</th>\n",
       "    </tr>\n",
       "  </thead>\n",
       "  <tbody>\n",
       "    <tr>\n",
       "      <th>318</th>\n",
       "      <td>арматура alll a500c 16x11700 гост 340282016</td>\n",
       "      <td>арматура а500с д 16 гост 34028-2016</td>\n",
       "      <td>[арматура а500с д 16 гост 34028-2016, арматура...</td>\n",
       "    </tr>\n",
       "    <tr>\n",
       "      <th>580</th>\n",
       "      <td>состав клеевой на минеральной основе capatect ...</td>\n",
       "      <td>клей для утеплителя capatect daemmkleber 185 w...</td>\n",
       "      <td>[смесь клеевая для минераловатных плит thermom...</td>\n",
       "    </tr>\n",
       "    <tr>\n",
       "      <th>14</th>\n",
       "      <td>вентиляционный блок бв 32.5.92 вб_тип_2.1 930х500</td>\n",
       "      <td>блок вентиляционный бв 32.5.9-2 930х500х3200мм</td>\n",
       "      <td>[блок вентиляционный бв 30.93-1-нв, блок венти...</td>\n",
       "    </tr>\n",
       "    <tr>\n",
       "      <th>201</th>\n",
       "      <td>накладка под фиксатор фнф цвет хром |</td>\n",
       "      <td>накладка под фиксатор фнф хром</td>\n",
       "      <td>[накладка под фиксатор фнф хром, стакан монтаж...</td>\n",
       "    </tr>\n",
       "    <tr>\n",
       "      <th>361</th>\n",
       "      <td>бетон m350 b25 гравий f200w8i14 дата отгрузки ...</td>\n",
       "      <td>бетон в25 гравий с пмд п2-п4 f200 w8 гост 2519...</td>\n",
       "      <td>[бетон в25 гравий с пмд п2-п4 f200 w8 гост 251...</td>\n",
       "    </tr>\n",
       "    <tr>\n",
       "      <th>312</th>\n",
       "      <td>плиты минераловатные техновент стандарт 1200x6...</td>\n",
       "      <td>плита минераловатная теплоизоляционная технони...</td>\n",
       "      <td>[плита минераловатная теплоизоляционная технон...</td>\n",
       "    </tr>\n",
       "    <tr>\n",
       "      <th>485</th>\n",
       "      <td>провод пув 1х2,5 желтозеленый .</td>\n",
       "      <td>провод силовой пв-1 1х2,5 желто-зеленый гост 6...</td>\n",
       "      <td>[кабель ввг 3х2,5мм2, труба электросварная пря...</td>\n",
       "    </tr>\n",
       "    <tr>\n",
       "      <th>231</th>\n",
       "      <td>радиатор prado classic 20x500x800</td>\n",
       "      <td>радиатор панельный prado classic 20х500х800</td>\n",
       "      <td>[радиатор панельный prado classic 20х300х500, ...</td>\n",
       "    </tr>\n",
       "    <tr>\n",
       "      <th>126</th>\n",
       "      <td>труба вгп 32х3,2 гост 3262</td>\n",
       "      <td>труба вгп стальная 32х3,5 гост 3262-75</td>\n",
       "      <td>[труба вгп стальная 32х3,5 гост 3262-75, отвод...</td>\n",
       "    </tr>\n",
       "    <tr>\n",
       "      <th>325</th>\n",
       "      <td>основит техно рс21/1 м штукатурка цементнопесч...</td>\n",
       "      <td>штукатурка цементно-песчаная техно pc21/1 m ос...</td>\n",
       "      <td>[штукатурка цементно-песчаная техно pc21/1 m о...</td>\n",
       "    </tr>\n",
       "  </tbody>\n",
       "</table>\n",
       "</div>"
      ],
      "text/plain": [
       "                                           ITEM_NAME_x  \\\n",
       "318        арматура alll a500c 16x11700 гост 340282016   \n",
       "580  состав клеевой на минеральной основе capatect ...   \n",
       "14   вентиляционный блок бв 32.5.92 вб_тип_2.1 930х500   \n",
       "201              накладка под фиксатор фнф цвет хром |   \n",
       "361  бетон m350 b25 гравий f200w8i14 дата отгрузки ...   \n",
       "312  плиты минераловатные техновент стандарт 1200x6...   \n",
       "485                    провод пув 1х2,5 желтозеленый .   \n",
       "231                  радиатор prado classic 20x500x800   \n",
       "126                         труба вгп 32х3,2 гост 3262   \n",
       "325  основит техно рс21/1 м штукатурка цементнопесч...   \n",
       "\n",
       "                                           ITEM_NAME_y  \\\n",
       "318                арматура а500с д 16 гост 34028-2016   \n",
       "580  клей для утеплителя capatect daemmkleber 185 w...   \n",
       "14      блок вентиляционный бв 32.5.9-2 930х500х3200мм   \n",
       "201                     накладка под фиксатор фнф хром   \n",
       "361  бетон в25 гравий с пмд п2-п4 f200 w8 гост 2519...   \n",
       "312  плита минераловатная теплоизоляционная технони...   \n",
       "485  провод силовой пв-1 1х2,5 желто-зеленый гост 6...   \n",
       "231        радиатор панельный prado classic 20х500х800   \n",
       "126             труба вгп стальная 32х3,5 гост 3262-75   \n",
       "325  штукатурка цементно-песчаная техно pc21/1 m ос...   \n",
       "\n",
       "                                         model_answers  \n",
       "318  [арматура а500с д 16 гост 34028-2016, арматура...  \n",
       "580  [смесь клеевая для минераловатных плит thermom...  \n",
       "14   [блок вентиляционный бв 30.93-1-нв, блок венти...  \n",
       "201  [накладка под фиксатор фнф хром, стакан монтаж...  \n",
       "361  [бетон в25 гравий с пмд п2-п4 f200 w8 гост 251...  \n",
       "312  [плита минераловатная теплоизоляционная технон...  \n",
       "485  [кабель ввг 3х2,5мм2, труба электросварная пря...  \n",
       "231  [радиатор панельный prado classic 20х300х500, ...  \n",
       "126  [труба вгп стальная 32х3,5 гост 3262-75, отвод...  \n",
       "325  [штукатурка цементно-песчаная техно pc21/1 m о...  "
      ]
     },
     "execution_count": 11,
     "metadata": {},
     "output_type": "execute_result"
    }
   ],
   "source": [
    "df_valid_processed.sample(10)"
   ]
  },
  {
   "cell_type": "code",
   "execution_count": 15,
   "id": "39322bad",
   "metadata": {},
   "outputs": [],
   "source": [
    "# Тюним модель\n",
    "scores = []\n",
    "loss_values = []\n",
    "\n",
    "def train(\n",
    "    train_dataloader,\n",
    "    df_valid,\n",
    "    num_iter,\n",
    "    best_score=0.31,\n",
    "    load_path='paraphrase-multilingual-mpnet-base-v2'\n",
    "):\n",
    "    warmup_steps = int(0.1 * len(train_dataloader))\n",
    "    \n",
    "    for _ in range(num_iter):\n",
    "        model = SentenceTransformer(load_path, device='cuda:2')\n",
    "        \n",
    "        train_loss = MultipleNegativesRankingLossWithAvg(model=model)\n",
    "        \n",
    "        model.fit(train_objectives=[(train_dataloader, train_loss)],\n",
    "                  epochs=2,\n",
    "                  warmup_steps=warmup_steps,\n",
    "                  show_progress_bar=True,\n",
    "                  output_path='./models/base_model',\n",
    "                 )\n",
    "        \n",
    "        loss_values.append(train_loss.get_avg_loss())\n",
    "        \n",
    "        df_valid, evaluation_score = evaluator(df_valid, model)\n",
    "        scores.append(evaluation_score)\n",
    "        \n",
    "        with open('./evaluation_score.pickle', 'wb') as f:\n",
    "            pickle.dump(scores, f)\n",
    "        \n",
    "        if evaluation_score['Top-1 Accuracy'] > best_score:\n",
    "            load_path = './models/best_model'\n",
    "            best_score = evaluation_score['Top-1 Accuracy']\n",
    "            model.save(load_path)\n",
    "            print('save!')\n",
    "        else:\n",
    "            load_path = './models/base_model'\n",
    "            \n",
    "    return  df_valid"
   ]
  },
  {
   "cell_type": "code",
   "execution_count": 18,
   "id": "b7efa150",
   "metadata": {
    "scrolled": true
   },
   "outputs": [
    {
     "data": {
      "application/vnd.jupyter.widget-view+json": {
       "model_id": "5bff9e997819475888f37478802a8fc7",
       "version_major": 2,
       "version_minor": 0
      },
      "text/plain": [
       "Epoch:   0%|          | 0/2 [00:00<?, ?it/s]"
      ]
     },
     "metadata": {},
     "output_type": "display_data"
    },
    {
     "data": {
      "application/vnd.jupyter.widget-view+json": {
       "model_id": "807cf92a3d77440299d77c9f4c9ea24b",
       "version_major": 2,
       "version_minor": 0
      },
      "text/plain": [
       "Iteration:   0%|          | 0/505 [00:00<?, ?it/s]"
      ]
     },
     "metadata": {},
     "output_type": "display_data"
    },
    {
     "data": {
      "application/vnd.jupyter.widget-view+json": {
       "model_id": "201467b2084a412bbffe7a946dcae779",
       "version_major": 2,
       "version_minor": 0
      },
      "text/plain": [
       "Iteration:   0%|          | 0/505 [00:00<?, ?it/s]"
      ]
     },
     "metadata": {},
     "output_type": "display_data"
    },
    {
     "name": "stdout",
     "output_type": "stream",
     "text": [
      "{'Top-1 Accuracy': 0.5585585585585585, 'Top-3 Accuracy': 0.8243243243243243, 'Top-5 Accuracy': 0.9069069069069069}\n",
      "save!\n"
     ]
    },
    {
     "data": {
      "application/vnd.jupyter.widget-view+json": {
       "model_id": "62c8af50141d4d2795428370a875c2c1",
       "version_major": 2,
       "version_minor": 0
      },
      "text/plain": [
       "Epoch:   0%|          | 0/2 [00:00<?, ?it/s]"
      ]
     },
     "metadata": {},
     "output_type": "display_data"
    },
    {
     "data": {
      "application/vnd.jupyter.widget-view+json": {
       "model_id": "3c23c2158dde4c4c9a2d333cb6cf8885",
       "version_major": 2,
       "version_minor": 0
      },
      "text/plain": [
       "Iteration:   0%|          | 0/505 [00:00<?, ?it/s]"
      ]
     },
     "metadata": {},
     "output_type": "display_data"
    },
    {
     "data": {
      "application/vnd.jupyter.widget-view+json": {
       "model_id": "c9519e091b6f443b9aaefbd98b313bc1",
       "version_major": 2,
       "version_minor": 0
      },
      "text/plain": [
       "Iteration:   0%|          | 0/505 [00:00<?, ?it/s]"
      ]
     },
     "metadata": {},
     "output_type": "display_data"
    },
    {
     "name": "stdout",
     "output_type": "stream",
     "text": [
      "{'Top-1 Accuracy': 0.6051051051051051, 'Top-3 Accuracy': 0.8378378378378378, 'Top-5 Accuracy': 0.9294294294294294}\n",
      "save!\n"
     ]
    },
    {
     "data": {
      "application/vnd.jupyter.widget-view+json": {
       "model_id": "5305af33c9f44f4dbada8c8fcc45bdec",
       "version_major": 2,
       "version_minor": 0
      },
      "text/plain": [
       "Epoch:   0%|          | 0/2 [00:00<?, ?it/s]"
      ]
     },
     "metadata": {},
     "output_type": "display_data"
    },
    {
     "data": {
      "application/vnd.jupyter.widget-view+json": {
       "model_id": "c31ee4c5b6bc49e8afd7f09b62cc0af8",
       "version_major": 2,
       "version_minor": 0
      },
      "text/plain": [
       "Iteration:   0%|          | 0/505 [00:00<?, ?it/s]"
      ]
     },
     "metadata": {},
     "output_type": "display_data"
    },
    {
     "data": {
      "application/vnd.jupyter.widget-view+json": {
       "model_id": "1263817086924bd6ac8c65c39ce6faed",
       "version_major": 2,
       "version_minor": 0
      },
      "text/plain": [
       "Iteration:   0%|          | 0/505 [00:00<?, ?it/s]"
      ]
     },
     "metadata": {},
     "output_type": "display_data"
    },
    {
     "name": "stdout",
     "output_type": "stream",
     "text": [
      "{'Top-1 Accuracy': 0.5885885885885885, 'Top-3 Accuracy': 0.8228228228228228, 'Top-5 Accuracy': 0.9114114114114115}\n"
     ]
    },
    {
     "data": {
      "application/vnd.jupyter.widget-view+json": {
       "model_id": "8c2b7ef22f6a4db8a80060ce08278d92",
       "version_major": 2,
       "version_minor": 0
      },
      "text/plain": [
       "Epoch:   0%|          | 0/2 [00:00<?, ?it/s]"
      ]
     },
     "metadata": {},
     "output_type": "display_data"
    },
    {
     "data": {
      "application/vnd.jupyter.widget-view+json": {
       "model_id": "62f7bb4271a84a989cec79d46ab0cbd4",
       "version_major": 2,
       "version_minor": 0
      },
      "text/plain": [
       "Iteration:   0%|          | 0/505 [00:00<?, ?it/s]"
      ]
     },
     "metadata": {},
     "output_type": "display_data"
    },
    {
     "data": {
      "application/vnd.jupyter.widget-view+json": {
       "model_id": "f28f3f6fd43a4383a52fda7678634c61",
       "version_major": 2,
       "version_minor": 0
      },
      "text/plain": [
       "Iteration:   0%|          | 0/505 [00:00<?, ?it/s]"
      ]
     },
     "metadata": {},
     "output_type": "display_data"
    },
    {
     "name": "stdout",
     "output_type": "stream",
     "text": [
      "{'Top-1 Accuracy': 0.6111111111111112, 'Top-3 Accuracy': 0.8318318318318318, 'Top-5 Accuracy': 0.9234234234234234}\n",
      "save!\n"
     ]
    },
    {
     "data": {
      "application/vnd.jupyter.widget-view+json": {
       "model_id": "08550aa1e88b4b099c33c87c6b3303d2",
       "version_major": 2,
       "version_minor": 0
      },
      "text/plain": [
       "Epoch:   0%|          | 0/2 [00:00<?, ?it/s]"
      ]
     },
     "metadata": {},
     "output_type": "display_data"
    },
    {
     "data": {
      "application/vnd.jupyter.widget-view+json": {
       "model_id": "366802ab64b54a73b548bd16bd6b3c55",
       "version_major": 2,
       "version_minor": 0
      },
      "text/plain": [
       "Iteration:   0%|          | 0/505 [00:00<?, ?it/s]"
      ]
     },
     "metadata": {},
     "output_type": "display_data"
    },
    {
     "data": {
      "application/vnd.jupyter.widget-view+json": {
       "model_id": "758665be435a431d920a268b6b98dd9f",
       "version_major": 2,
       "version_minor": 0
      },
      "text/plain": [
       "Iteration:   0%|          | 0/505 [00:00<?, ?it/s]"
      ]
     },
     "metadata": {},
     "output_type": "display_data"
    },
    {
     "name": "stdout",
     "output_type": "stream",
     "text": [
      "{'Top-1 Accuracy': 0.6066066066066066, 'Top-3 Accuracy': 0.8483483483483484, 'Top-5 Accuracy': 0.9354354354354354}\n",
      "CPU times: user 26min 12s, sys: 20min 23s, total: 46min 36s\n",
      "Wall time: 39min 42s\n"
     ]
    }
   ],
   "source": [
    "%%time\n",
    "df_valid = train(\n",
    "    train_dataloader,\n",
    "    df_test,\n",
    "    num_iter=5,\n",
    ")"
   ]
  },
  {
   "cell_type": "code",
   "execution_count": 23,
   "id": "0c7dccc7",
   "metadata": {},
   "outputs": [],
   "source": [
    "def plot_metrics(loss_values, scores_train):\n",
    "    plt.figure(figsize=(15, 15))\n",
    "\n",
    "    # Подграфик для функции потерь\n",
    "    plt.subplot(4, 1, 1)\n",
    "    plt.plot(loss_values)\n",
    "    plt.title('Loss values')\n",
    "    plt.xlabel('Iteration')\n",
    "    plt.ylabel('Loss')\n",
    "\n",
    "    # Подграфик для оценки обучения\n",
    "    plt.subplot(4, 1, 2)\n",
    "    train_scores_1 = [score['Top-1 Accuracy'] for score in scores_train]\n",
    "    train_scores_2 = [score['Top-3 Accuracy'] for score in scores_train]\n",
    "    train_scores_5 = [score['Top-5 Accuracy'] for score in scores_train]\n",
    "    plt.plot(train_scores_1, label='Top-1')\n",
    "    plt.plot(train_scores_2, label='Top-3')\n",
    "    plt.plot(train_scores_5, label='Top-5')\n",
    "    plt.title('Train accuracy')\n",
    "    plt.xlabel('Iteration')\n",
    "    plt.ylabel('Accuracy')\n",
    "    plt.legend()\n",
    "\n",
    "    plt.tight_layout()\n",
    "    plt.show()"
   ]
  },
  {
   "cell_type": "code",
   "execution_count": 24,
   "id": "9a5b5782",
   "metadata": {},
   "outputs": [
    {
     "data": {
      "image/png": "[encoded data removed]",
      "text/plain": [
       "<Figure size 1080x1080 with 2 Axes>"
      ]
     },
     "metadata": {
      "needs_background": "light"
     },
     "output_type": "display_data"
    }
   ],
   "source": [
    "plot_metrics(loss_values, scores)"
   ]
  },
  {
   "cell_type": "code",
   "execution_count": null,
   "id": "79f5d956",
   "metadata": {},
   "outputs": [],
   "source": []
  }
 ],
 "metadata": {
  "kernelspec": {
   "display_name": "HSE course Environment",
   "language": "python",
   "name": "hse"
  },
  "language_info": {
   "codemirror_mode": {
    "name": "ipython",
    "version": 3
   },
   "file_extension": ".py",
   "mimetype": "text/x-python",
   "name": "python",
   "nbconvert_exporter": "python",
   "pygments_lexer": "ipython3",
   "version": "3.10.14"
  }
 },
 "nbformat": 4,
 "nbformat_minor": 5
}
